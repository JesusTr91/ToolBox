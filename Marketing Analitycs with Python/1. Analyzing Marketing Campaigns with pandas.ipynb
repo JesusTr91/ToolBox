{
 "cells": [
  {
   "cell_type": "markdown",
   "metadata": {},
   "source": [
    "# Description\n",
    "\n",
    "One of the biggest challenges when studying data science technical skills is understanding how those skills and concepts translate into real jobs. Whether you're looking to level up in your marketing job by incorporating Python and pandas or you're trying to get a handle on what kinds of work a data scientist in a marketing organization might do, this course is a great match for you. We'll practice translating common business questions into measurable outcomes, including \"How did this campaign perform?\", \"Which channel is referring the most subscribers?\", \"Why is a particular channel underperforming?\" and more using a fake marketing dataset based on the data of an online subscription business. This course will build on Python and pandas fundamentals, such as merging/slicing datasets, groupby(), correcting data types and visualizing results using matplotlib."
   ]
  },
  {
   "cell_type": "markdown",
   "metadata": {},
   "source": [
    "# Pandas"
   ]
  },
  {
   "cell_type": "code",
   "execution_count": 2,
   "metadata": {},
   "outputs": [
    {
     "name": "stdout",
     "output_type": "stream",
     "text": [
      "      user_id date_served marketing_channel          variant converted  \\\n",
      "0  a100000029      1/1/18         House Ads  personalization      True   \n",
      "1  a100000030      1/1/18         House Ads  personalization      True   \n",
      "2  a100000031      1/1/18         House Ads  personalization      True   \n",
      "3  a100000032      1/1/18         House Ads  personalization      True   \n",
      "4  a100000033      1/1/18         House Ads  personalization      True   \n",
      "\n",
      "  language_displayed language_preferred    age_group date_subscribed  \\\n",
      "0            English            English   0-18 years          1/1/18   \n",
      "1            English            English  19-24 years          1/1/18   \n",
      "2            English            English  24-30 years          1/1/18   \n",
      "3            English            English  30-36 years          1/1/18   \n",
      "4            English            English  36-45 years          1/1/18   \n",
      "\n",
      "  date_canceled subscribing_channel is_retained  \n",
      "0           NaN           House Ads        True  \n",
      "1           NaN           House Ads        True  \n",
      "2           NaN           House Ads        True  \n",
      "3           NaN           House Ads        True  \n",
      "4           NaN           House Ads        True  \n"
     ]
    }
   ],
   "source": [
    "import pandas as pd\n",
    "marketing = pd.read_csv('marketing.csv')\n",
    "print(marketing.head())"
   ]
  },
  {
   "cell_type": "code",
   "execution_count": 3,
   "metadata": {},
   "outputs": [
    {
     "name": "stdout",
     "output_type": "stream",
     "text": [
      "object\n"
     ]
    }
   ],
   "source": [
    "# Check the data type of is_retained\n",
    "print(marketing['is_retained'].dtype)"
   ]
  },
  {
   "cell_type": "markdown",
   "metadata": {},
   "source": [
    "### Adding new columns\n",
    "\n",
    "Adding new columns that derive information from existing data or based on domain knowledge is known as Feature Engineering. Even in relatively simple datasets, there are always new characteristics you could pull out to create a more in-depth analysis.\n",
    "\n",
    "One of the most critical skills a data scientist needs to learn is how to identify opportunities for feature engineering."
   ]
  },
  {
   "cell_type": "code",
   "execution_count": 11,
   "metadata": {},
   "outputs": [
    {
     "data": {
      "text/html": [
       "<div>\n",
       "<style scoped>\n",
       "    .dataframe tbody tr th:only-of-type {\n",
       "        vertical-align: middle;\n",
       "    }\n",
       "\n",
       "    .dataframe tbody tr th {\n",
       "        vertical-align: top;\n",
       "    }\n",
       "\n",
       "    .dataframe thead th {\n",
       "        text-align: right;\n",
       "    }\n",
       "</style>\n",
       "<table border=\"1\" class=\"dataframe\">\n",
       "  <thead>\n",
       "    <tr style=\"text-align: right;\">\n",
       "      <th></th>\n",
       "      <th>user_id</th>\n",
       "      <th>date_served</th>\n",
       "      <th>marketing_channel</th>\n",
       "      <th>variant</th>\n",
       "      <th>converted</th>\n",
       "      <th>language_displayed</th>\n",
       "      <th>language_preferred</th>\n",
       "      <th>age_group</th>\n",
       "      <th>date_subscribed</th>\n",
       "      <th>date_canceled</th>\n",
       "      <th>subscribing_channel</th>\n",
       "      <th>is_retained</th>\n",
       "      <th>DoW</th>\n",
       "      <th>channel_code</th>\n",
       "    </tr>\n",
       "  </thead>\n",
       "  <tbody>\n",
       "    <tr>\n",
       "      <th>0</th>\n",
       "      <td>a100000029</td>\n",
       "      <td>2018-01-01</td>\n",
       "      <td>House Ads</td>\n",
       "      <td>personalization</td>\n",
       "      <td>True</td>\n",
       "      <td>English</td>\n",
       "      <td>English</td>\n",
       "      <td>0-18 years</td>\n",
       "      <td>2018-01-01</td>\n",
       "      <td>NaT</td>\n",
       "      <td>House Ads</td>\n",
       "      <td>True</td>\n",
       "      <td>0.0</td>\n",
       "      <td>1.0</td>\n",
       "    </tr>\n",
       "    <tr>\n",
       "      <th>1</th>\n",
       "      <td>a100000030</td>\n",
       "      <td>2018-01-01</td>\n",
       "      <td>House Ads</td>\n",
       "      <td>personalization</td>\n",
       "      <td>True</td>\n",
       "      <td>English</td>\n",
       "      <td>English</td>\n",
       "      <td>19-24 years</td>\n",
       "      <td>2018-01-01</td>\n",
       "      <td>NaT</td>\n",
       "      <td>House Ads</td>\n",
       "      <td>True</td>\n",
       "      <td>0.0</td>\n",
       "      <td>1.0</td>\n",
       "    </tr>\n",
       "    <tr>\n",
       "      <th>2</th>\n",
       "      <td>a100000031</td>\n",
       "      <td>2018-01-01</td>\n",
       "      <td>House Ads</td>\n",
       "      <td>personalization</td>\n",
       "      <td>True</td>\n",
       "      <td>English</td>\n",
       "      <td>English</td>\n",
       "      <td>24-30 years</td>\n",
       "      <td>2018-01-01</td>\n",
       "      <td>NaT</td>\n",
       "      <td>House Ads</td>\n",
       "      <td>True</td>\n",
       "      <td>0.0</td>\n",
       "      <td>1.0</td>\n",
       "    </tr>\n",
       "    <tr>\n",
       "      <th>3</th>\n",
       "      <td>a100000032</td>\n",
       "      <td>2018-01-01</td>\n",
       "      <td>House Ads</td>\n",
       "      <td>personalization</td>\n",
       "      <td>True</td>\n",
       "      <td>English</td>\n",
       "      <td>English</td>\n",
       "      <td>30-36 years</td>\n",
       "      <td>2018-01-01</td>\n",
       "      <td>NaT</td>\n",
       "      <td>House Ads</td>\n",
       "      <td>True</td>\n",
       "      <td>0.0</td>\n",
       "      <td>1.0</td>\n",
       "    </tr>\n",
       "    <tr>\n",
       "      <th>4</th>\n",
       "      <td>a100000033</td>\n",
       "      <td>2018-01-01</td>\n",
       "      <td>House Ads</td>\n",
       "      <td>personalization</td>\n",
       "      <td>True</td>\n",
       "      <td>English</td>\n",
       "      <td>English</td>\n",
       "      <td>36-45 years</td>\n",
       "      <td>2018-01-01</td>\n",
       "      <td>NaT</td>\n",
       "      <td>House Ads</td>\n",
       "      <td>True</td>\n",
       "      <td>0.0</td>\n",
       "      <td>1.0</td>\n",
       "    </tr>\n",
       "    <tr>\n",
       "      <th>...</th>\n",
       "      <td>...</td>\n",
       "      <td>...</td>\n",
       "      <td>...</td>\n",
       "      <td>...</td>\n",
       "      <td>...</td>\n",
       "      <td>...</td>\n",
       "      <td>...</td>\n",
       "      <td>...</td>\n",
       "      <td>...</td>\n",
       "      <td>...</td>\n",
       "      <td>...</td>\n",
       "      <td>...</td>\n",
       "      <td>...</td>\n",
       "      <td>...</td>\n",
       "    </tr>\n",
       "    <tr>\n",
       "      <th>10032</th>\n",
       "      <td>a100007290</td>\n",
       "      <td>2018-01-17</td>\n",
       "      <td>Email</td>\n",
       "      <td>control</td>\n",
       "      <td>True</td>\n",
       "      <td>German</td>\n",
       "      <td>German</td>\n",
       "      <td>45-55 years</td>\n",
       "      <td>2018-01-17</td>\n",
       "      <td>2018-01-24</td>\n",
       "      <td>Email</td>\n",
       "      <td>False</td>\n",
       "      <td>2.0</td>\n",
       "      <td>4.0</td>\n",
       "    </tr>\n",
       "    <tr>\n",
       "      <th>10033</th>\n",
       "      <td>a100007291</td>\n",
       "      <td>2018-01-17</td>\n",
       "      <td>Email</td>\n",
       "      <td>control</td>\n",
       "      <td>True</td>\n",
       "      <td>German</td>\n",
       "      <td>German</td>\n",
       "      <td>55+ years</td>\n",
       "      <td>2018-01-17</td>\n",
       "      <td>NaT</td>\n",
       "      <td>Email</td>\n",
       "      <td>True</td>\n",
       "      <td>2.0</td>\n",
       "      <td>4.0</td>\n",
       "    </tr>\n",
       "    <tr>\n",
       "      <th>10034</th>\n",
       "      <td>a100007292</td>\n",
       "      <td>2018-01-05</td>\n",
       "      <td>Instagram</td>\n",
       "      <td>control</td>\n",
       "      <td>False</td>\n",
       "      <td>German</td>\n",
       "      <td>German</td>\n",
       "      <td>55+ years</td>\n",
       "      <td>2018-01-17</td>\n",
       "      <td>NaT</td>\n",
       "      <td>Email</td>\n",
       "      <td>True</td>\n",
       "      <td>2.0</td>\n",
       "      <td>4.0</td>\n",
       "    </tr>\n",
       "    <tr>\n",
       "      <th>10035</th>\n",
       "      <td>a100007293</td>\n",
       "      <td>2018-01-17</td>\n",
       "      <td>Email</td>\n",
       "      <td>control</td>\n",
       "      <td>True</td>\n",
       "      <td>German</td>\n",
       "      <td>German</td>\n",
       "      <td>0-18 years</td>\n",
       "      <td>2018-01-17</td>\n",
       "      <td>NaT</td>\n",
       "      <td>Email</td>\n",
       "      <td>True</td>\n",
       "      <td>2.0</td>\n",
       "      <td>4.0</td>\n",
       "    </tr>\n",
       "    <tr>\n",
       "      <th>10036</th>\n",
       "      <td>a100007294</td>\n",
       "      <td>2018-01-06</td>\n",
       "      <td>Facebook</td>\n",
       "      <td>control</td>\n",
       "      <td>False</td>\n",
       "      <td>German</td>\n",
       "      <td>German</td>\n",
       "      <td>0-18 years</td>\n",
       "      <td>2018-01-17</td>\n",
       "      <td>NaT</td>\n",
       "      <td>Email</td>\n",
       "      <td>True</td>\n",
       "      <td>2.0</td>\n",
       "      <td>4.0</td>\n",
       "    </tr>\n",
       "  </tbody>\n",
       "</table>\n",
       "<p>10037 rows × 14 columns</p>\n",
       "</div>"
      ],
      "text/plain": [
       "          user_id date_served marketing_channel          variant converted  \\\n",
       "0      a100000029  2018-01-01         House Ads  personalization      True   \n",
       "1      a100000030  2018-01-01         House Ads  personalization      True   \n",
       "2      a100000031  2018-01-01         House Ads  personalization      True   \n",
       "3      a100000032  2018-01-01         House Ads  personalization      True   \n",
       "4      a100000033  2018-01-01         House Ads  personalization      True   \n",
       "...           ...         ...               ...              ...       ...   \n",
       "10032  a100007290  2018-01-17             Email          control      True   \n",
       "10033  a100007291  2018-01-17             Email          control      True   \n",
       "10034  a100007292  2018-01-05         Instagram          control     False   \n",
       "10035  a100007293  2018-01-17             Email          control      True   \n",
       "10036  a100007294  2018-01-06          Facebook          control     False   \n",
       "\n",
       "      language_displayed language_preferred    age_group date_subscribed  \\\n",
       "0                English            English   0-18 years      2018-01-01   \n",
       "1                English            English  19-24 years      2018-01-01   \n",
       "2                English            English  24-30 years      2018-01-01   \n",
       "3                English            English  30-36 years      2018-01-01   \n",
       "4                English            English  36-45 years      2018-01-01   \n",
       "...                  ...                ...          ...             ...   \n",
       "10032             German             German  45-55 years      2018-01-17   \n",
       "10033             German             German    55+ years      2018-01-17   \n",
       "10034             German             German    55+ years      2018-01-17   \n",
       "10035             German             German   0-18 years      2018-01-17   \n",
       "10036             German             German   0-18 years      2018-01-17   \n",
       "\n",
       "      date_canceled subscribing_channel is_retained  DoW  channel_code  \n",
       "0               NaT           House Ads        True  0.0           1.0  \n",
       "1               NaT           House Ads        True  0.0           1.0  \n",
       "2               NaT           House Ads        True  0.0           1.0  \n",
       "3               NaT           House Ads        True  0.0           1.0  \n",
       "4               NaT           House Ads        True  0.0           1.0  \n",
       "...             ...                 ...         ...  ...           ...  \n",
       "10032    2018-01-24               Email       False  2.0           4.0  \n",
       "10033           NaT               Email        True  2.0           4.0  \n",
       "10034           NaT               Email        True  2.0           4.0  \n",
       "10035           NaT               Email        True  2.0           4.0  \n",
       "10036           NaT               Email        True  2.0           4.0  \n",
       "\n",
       "[10037 rows x 14 columns]"
      ]
     },
     "execution_count": 11,
     "metadata": {},
     "output_type": "execute_result"
    }
   ],
   "source": [
    "# Mapping for channels\n",
    "channel_dict = {\"House Ads\": 1, \"Instagram\": 2, \n",
    "                \"Facebook\": 3, \"Email\": 4, \"Push\": 5}\n",
    "\n",
    "# Map the channel to a channel code\n",
    "marketing['channel_code'] = marketing['subscribing_channel'].map(channel_dict)\n",
    "marketing"
   ]
  },
  {
   "cell_type": "markdown",
   "metadata": {},
   "source": [
    "### Date columns\n",
    "\n",
    "Currently, the date columns in the marketing DataFrame are being incorrectly read as objects. We need to convert these columns to date columns to be able to use Python and pandas' robust date manipulation and formatting capabilities."
   ]
  },
  {
   "cell_type": "code",
   "execution_count": 14,
   "metadata": {},
   "outputs": [
    {
     "data": {
      "text/html": [
       "<div>\n",
       "<style scoped>\n",
       "    .dataframe tbody tr th:only-of-type {\n",
       "        vertical-align: middle;\n",
       "    }\n",
       "\n",
       "    .dataframe tbody tr th {\n",
       "        vertical-align: top;\n",
       "    }\n",
       "\n",
       "    .dataframe thead th {\n",
       "        text-align: right;\n",
       "    }\n",
       "</style>\n",
       "<table border=\"1\" class=\"dataframe\">\n",
       "  <thead>\n",
       "    <tr style=\"text-align: right;\">\n",
       "      <th></th>\n",
       "      <th>user_id</th>\n",
       "      <th>date_served</th>\n",
       "      <th>marketing_channel</th>\n",
       "      <th>variant</th>\n",
       "      <th>converted</th>\n",
       "      <th>language_displayed</th>\n",
       "      <th>language_preferred</th>\n",
       "      <th>age_group</th>\n",
       "      <th>date_subscribed</th>\n",
       "      <th>date_canceled</th>\n",
       "      <th>subscribing_channel</th>\n",
       "      <th>is_retained</th>\n",
       "      <th>DoW</th>\n",
       "    </tr>\n",
       "  </thead>\n",
       "  <tbody>\n",
       "    <tr>\n",
       "      <th>0</th>\n",
       "      <td>a100000029</td>\n",
       "      <td>2018-01-01</td>\n",
       "      <td>House Ads</td>\n",
       "      <td>personalization</td>\n",
       "      <td>True</td>\n",
       "      <td>English</td>\n",
       "      <td>English</td>\n",
       "      <td>0-18 years</td>\n",
       "      <td>2018-01-01</td>\n",
       "      <td>NaT</td>\n",
       "      <td>House Ads</td>\n",
       "      <td>True</td>\n",
       "      <td>0.0</td>\n",
       "    </tr>\n",
       "    <tr>\n",
       "      <th>1</th>\n",
       "      <td>a100000030</td>\n",
       "      <td>2018-01-01</td>\n",
       "      <td>House Ads</td>\n",
       "      <td>personalization</td>\n",
       "      <td>True</td>\n",
       "      <td>English</td>\n",
       "      <td>English</td>\n",
       "      <td>19-24 years</td>\n",
       "      <td>2018-01-01</td>\n",
       "      <td>NaT</td>\n",
       "      <td>House Ads</td>\n",
       "      <td>True</td>\n",
       "      <td>0.0</td>\n",
       "    </tr>\n",
       "    <tr>\n",
       "      <th>2</th>\n",
       "      <td>a100000031</td>\n",
       "      <td>2018-01-01</td>\n",
       "      <td>House Ads</td>\n",
       "      <td>personalization</td>\n",
       "      <td>True</td>\n",
       "      <td>English</td>\n",
       "      <td>English</td>\n",
       "      <td>24-30 years</td>\n",
       "      <td>2018-01-01</td>\n",
       "      <td>NaT</td>\n",
       "      <td>House Ads</td>\n",
       "      <td>True</td>\n",
       "      <td>0.0</td>\n",
       "    </tr>\n",
       "    <tr>\n",
       "      <th>3</th>\n",
       "      <td>a100000032</td>\n",
       "      <td>2018-01-01</td>\n",
       "      <td>House Ads</td>\n",
       "      <td>personalization</td>\n",
       "      <td>True</td>\n",
       "      <td>English</td>\n",
       "      <td>English</td>\n",
       "      <td>30-36 years</td>\n",
       "      <td>2018-01-01</td>\n",
       "      <td>NaT</td>\n",
       "      <td>House Ads</td>\n",
       "      <td>True</td>\n",
       "      <td>0.0</td>\n",
       "    </tr>\n",
       "    <tr>\n",
       "      <th>4</th>\n",
       "      <td>a100000033</td>\n",
       "      <td>2018-01-01</td>\n",
       "      <td>House Ads</td>\n",
       "      <td>personalization</td>\n",
       "      <td>True</td>\n",
       "      <td>English</td>\n",
       "      <td>English</td>\n",
       "      <td>36-45 years</td>\n",
       "      <td>2018-01-01</td>\n",
       "      <td>NaT</td>\n",
       "      <td>House Ads</td>\n",
       "      <td>True</td>\n",
       "      <td>0.0</td>\n",
       "    </tr>\n",
       "    <tr>\n",
       "      <th>...</th>\n",
       "      <td>...</td>\n",
       "      <td>...</td>\n",
       "      <td>...</td>\n",
       "      <td>...</td>\n",
       "      <td>...</td>\n",
       "      <td>...</td>\n",
       "      <td>...</td>\n",
       "      <td>...</td>\n",
       "      <td>...</td>\n",
       "      <td>...</td>\n",
       "      <td>...</td>\n",
       "      <td>...</td>\n",
       "      <td>...</td>\n",
       "    </tr>\n",
       "    <tr>\n",
       "      <th>10032</th>\n",
       "      <td>a100007290</td>\n",
       "      <td>2018-01-17</td>\n",
       "      <td>Email</td>\n",
       "      <td>control</td>\n",
       "      <td>True</td>\n",
       "      <td>German</td>\n",
       "      <td>German</td>\n",
       "      <td>45-55 years</td>\n",
       "      <td>2018-01-17</td>\n",
       "      <td>2018-01-24</td>\n",
       "      <td>Email</td>\n",
       "      <td>False</td>\n",
       "      <td>2.0</td>\n",
       "    </tr>\n",
       "    <tr>\n",
       "      <th>10033</th>\n",
       "      <td>a100007291</td>\n",
       "      <td>2018-01-17</td>\n",
       "      <td>Email</td>\n",
       "      <td>control</td>\n",
       "      <td>True</td>\n",
       "      <td>German</td>\n",
       "      <td>German</td>\n",
       "      <td>55+ years</td>\n",
       "      <td>2018-01-17</td>\n",
       "      <td>NaT</td>\n",
       "      <td>Email</td>\n",
       "      <td>True</td>\n",
       "      <td>2.0</td>\n",
       "    </tr>\n",
       "    <tr>\n",
       "      <th>10034</th>\n",
       "      <td>a100007292</td>\n",
       "      <td>2018-01-05</td>\n",
       "      <td>Instagram</td>\n",
       "      <td>control</td>\n",
       "      <td>False</td>\n",
       "      <td>German</td>\n",
       "      <td>German</td>\n",
       "      <td>55+ years</td>\n",
       "      <td>2018-01-17</td>\n",
       "      <td>NaT</td>\n",
       "      <td>Email</td>\n",
       "      <td>True</td>\n",
       "      <td>2.0</td>\n",
       "    </tr>\n",
       "    <tr>\n",
       "      <th>10035</th>\n",
       "      <td>a100007293</td>\n",
       "      <td>2018-01-17</td>\n",
       "      <td>Email</td>\n",
       "      <td>control</td>\n",
       "      <td>True</td>\n",
       "      <td>German</td>\n",
       "      <td>German</td>\n",
       "      <td>0-18 years</td>\n",
       "      <td>2018-01-17</td>\n",
       "      <td>NaT</td>\n",
       "      <td>Email</td>\n",
       "      <td>True</td>\n",
       "      <td>2.0</td>\n",
       "    </tr>\n",
       "    <tr>\n",
       "      <th>10036</th>\n",
       "      <td>a100007294</td>\n",
       "      <td>2018-01-06</td>\n",
       "      <td>Facebook</td>\n",
       "      <td>control</td>\n",
       "      <td>False</td>\n",
       "      <td>German</td>\n",
       "      <td>German</td>\n",
       "      <td>0-18 years</td>\n",
       "      <td>2018-01-17</td>\n",
       "      <td>NaT</td>\n",
       "      <td>Email</td>\n",
       "      <td>True</td>\n",
       "      <td>2.0</td>\n",
       "    </tr>\n",
       "  </tbody>\n",
       "</table>\n",
       "<p>10037 rows × 13 columns</p>\n",
       "</div>"
      ],
      "text/plain": [
       "          user_id date_served marketing_channel          variant converted  \\\n",
       "0      a100000029  2018-01-01         House Ads  personalization      True   \n",
       "1      a100000030  2018-01-01         House Ads  personalization      True   \n",
       "2      a100000031  2018-01-01         House Ads  personalization      True   \n",
       "3      a100000032  2018-01-01         House Ads  personalization      True   \n",
       "4      a100000033  2018-01-01         House Ads  personalization      True   \n",
       "...           ...         ...               ...              ...       ...   \n",
       "10032  a100007290  2018-01-17             Email          control      True   \n",
       "10033  a100007291  2018-01-17             Email          control      True   \n",
       "10034  a100007292  2018-01-05         Instagram          control     False   \n",
       "10035  a100007293  2018-01-17             Email          control      True   \n",
       "10036  a100007294  2018-01-06          Facebook          control     False   \n",
       "\n",
       "      language_displayed language_preferred    age_group date_subscribed  \\\n",
       "0                English            English   0-18 years      2018-01-01   \n",
       "1                English            English  19-24 years      2018-01-01   \n",
       "2                English            English  24-30 years      2018-01-01   \n",
       "3                English            English  30-36 years      2018-01-01   \n",
       "4                English            English  36-45 years      2018-01-01   \n",
       "...                  ...                ...          ...             ...   \n",
       "10032             German             German  45-55 years      2018-01-17   \n",
       "10033             German             German    55+ years      2018-01-17   \n",
       "10034             German             German    55+ years      2018-01-17   \n",
       "10035             German             German   0-18 years      2018-01-17   \n",
       "10036             German             German   0-18 years      2018-01-17   \n",
       "\n",
       "      date_canceled subscribing_channel is_retained  DoW  \n",
       "0               NaT           House Ads        True  0.0  \n",
       "1               NaT           House Ads        True  0.0  \n",
       "2               NaT           House Ads        True  0.0  \n",
       "3               NaT           House Ads        True  0.0  \n",
       "4               NaT           House Ads        True  0.0  \n",
       "...             ...                 ...         ...  ...  \n",
       "10032    2018-01-24               Email       False  2.0  \n",
       "10033           NaT               Email        True  2.0  \n",
       "10034           NaT               Email        True  2.0  \n",
       "10035           NaT               Email        True  2.0  \n",
       "10036           NaT               Email        True  2.0  \n",
       "\n",
       "[10037 rows x 13 columns]"
      ]
     },
     "execution_count": 14,
     "metadata": {},
     "output_type": "execute_result"
    }
   ],
   "source": [
    "# Import marketing.csv with date columns\n",
    "marketing = pd.read_csv('marketing.csv', \n",
    "                        parse_dates = ['date_served', 'date_subscribed', 'date_canceled'])\n",
    "\n",
    "# Add a DoW column\n",
    "marketing['DoW'] = marketing['date_subscribed'].dt.dayofweek\n",
    "\n",
    "# Adding channel code again\n",
    "marketing['channel_code'] = marketing['subscribing_channel'].map(channel_dict)\n",
    "marketing"
   ]
  },
  {
   "cell_type": "markdown",
   "metadata": {},
   "source": [
    "### Daily marketing reach by channel\n",
    "\n",
    "In this exercise, you'll determine how many users are seeing the marketing assets each day. This is crucial to understand how effective our marketing efforts have been over the past month."
   ]
  },
  {
   "cell_type": "code",
   "execution_count": 15,
   "metadata": {},
   "outputs": [
    {
     "name": "stdout",
     "output_type": "stream",
     "text": [
      "date_served\n",
      "2018-01-01    362\n",
      "2018-01-02    374\n",
      "2018-01-03    348\n",
      "2018-01-04    323\n",
      "2018-01-05    319\n",
      "Name: user_id, dtype: int64\n"
     ]
    }
   ],
   "source": [
    "# Group by date_served and count number of unique user_id's\n",
    "daily_users = marketing.groupby(['date_served'])['user_id'].nunique()\n",
    "\n",
    "# Print head of daily_users\n",
    "print(daily_users.head())"
   ]
  },
  {
   "cell_type": "code",
   "execution_count": 18,
   "metadata": {},
   "outputs": [
    {
     "data": {
      "image/png": "[encoded data removed]",
      "text/plain": [
       "<Figure size 432x288 with 1 Axes>"
      ]
     },
     "metadata": {
      "needs_background": "light"
     },
     "output_type": "display_data"
    }
   ],
   "source": [
    "import matplotlib.pyplot as plt\n",
    "# Plot daily_subscribers\n",
    "daily_users.plot()\n",
    "\n",
    "# Include a title and y-axis label\n",
    "plt.title('Daily users')\n",
    "plt.ylabel('Number of users')\n",
    "\n",
    "# Rotate the x-axis labels by 45 degrees\n",
    "plt.xticks(rotation=45)\n",
    "\n",
    "# Display the plot\n",
    "plt.show()"
   ]
  },
  {
   "cell_type": "markdown",
   "metadata": {},
   "source": [
    "# Exploratory Analysis and Summary Statistics"
   ]
  },
  {
   "cell_type": "markdown",
   "metadata": {},
   "source": [
    "## Calculating conversion rate\n",
    "\n",
    "In this exercise, you will practice calculating conversion rate, which is often the first metric you'll want to calculate when evaluating how a marketing campaign performed.\n",
    "\n",
    "On marketing teams, conversion rate is typically the most important metric. It is one of the best ways to determine how effective a marketing team was at gaining new customers.\n",
    "\n",
    "As a reminder, conversion rate is the percentage of the users who saw our marketing assets and subsequently became subscribers."
   ]
  },
  {
   "cell_type": "code",
   "execution_count": 20,
   "metadata": {},
   "outputs": [
    {
     "name": "stdout",
     "output_type": "stream",
     "text": [
      "13.89 %\n"
     ]
    }
   ],
   "source": [
    "# Calculate the number of people we marketed to\n",
    "total = marketing['user_id'].nunique()\n",
    "\n",
    "# Calculate the number of people who subscribed\n",
    "subscribers = marketing[marketing[\"converted\"] == True]['user_id'].nunique()\n",
    "\n",
    "# Calculate the conversion rate\n",
    "conversion_rate = subscribers/total\n",
    "print(round(conversion_rate*100, 2), \"%\")"
   ]
  },
  {
   "cell_type": "markdown",
   "metadata": {},
   "source": [
    "## Calculating retention rate\n",
    "\n",
    "In this exercise, you will calculate the retention rate, or the number of remaining subscribers from the users who converted to your product. This can give you a sense of whether your marketing campaign converted subscribers who were actually interested in the product.\n",
    "\n",
    "Conversion rate and retention rate function hand-in-hand; you could create a business with a high conversion rate by giving users a free trial, but have a low retention rate once users are charged for your services. This isn't inherently a bad thing, but it is important to provide your business stakeholders with insight into what percentage of users remain subscribers."
   ]
  },
  {
   "cell_type": "code",
   "execution_count": 24,
   "metadata": {},
   "outputs": [
    {
     "name": "stdout",
     "output_type": "stream",
     "text": [
      "66.8 %\n"
     ]
    }
   ],
   "source": [
    "# Calculate the number of subscribers\n",
    "total_subscribers = marketing[marketing[\"converted\"] == True]\\\n",
    "                            ['user_id'].nunique()\n",
    "\n",
    "# Calculate the number of people who remained subscribed\n",
    "retained = marketing[marketing['is_retained'] == True]\\\n",
    "                   ['user_id'].nunique()\n",
    "\n",
    "# Calculate the retention rate\n",
    "retention_rate = retained/total_subscribers\n",
    "print(round(retention_rate*100, 2), \"%\")"
   ]
  },
  {
   "cell_type": "markdown",
   "metadata": {},
   "source": [
    "## Comparing language conversion rate (I)\n",
    "\n",
    "The marketing team wants to determine how effective the campaign was on converting English speakers.\n",
    "\n",
    "In this exercise, you will isolate the data for English speakers and calculate the conversion rate much like in the previous exercises. Once you have the conversion rate for English speakers, you can compare it to the overall conversion rate to gain a sense of how effective the marketing campaign was among this group compared to the overall population."
   ]
  },
  {
   "cell_type": "code",
   "execution_count": 25,
   "metadata": {},
   "outputs": [
    {
     "name": "stdout",
     "output_type": "stream",
     "text": [
      "English speaker conversion rate: 12.92 %\n"
     ]
    }
   ],
   "source": [
    "# Isolate english speakers\n",
    "english_speakers = marketing[marketing['language_displayed'] == 'English']\n",
    "\n",
    "# Calculate the total number of english speaking users\n",
    "total = english_speakers['user_id'].nunique()\n",
    "\n",
    "# Calculate the number of english speakers who converted\n",
    "subscribers = english_speakers[english_speakers['converted'] == True]\\\n",
    "                            ['user_id'].nunique()\n",
    "\n",
    "# Calculate conversion rate\n",
    "conversion_rate = subscribers/total\n",
    "print('English speaker conversion rate:',  round(conversion_rate*100,2), '%')"
   ]
  },
  {
   "cell_type": "markdown",
   "metadata": {},
   "source": [
    "## Comparing language conversion rate (II)\n",
    "\n",
    "Next, you want to look at the conversion rate by the language that the marketing asset was shown in. While many of your users speak English, some prefer another language. Let's check to make sure marketing material translated well across languages.\n",
    "\n",
    "You can analyze metrics by specific demographics using .groupby(). Rather than looking at the overall conversion rate in the dataset, you instead group by language preference, which allows you to determine whether the marketing campaign was more effective in certain languages."
   ]
  },
  {
   "cell_type": "code",
   "execution_count": 26,
   "metadata": {},
   "outputs": [
    {
     "name": "stdout",
     "output_type": "stream",
     "text": [
      "language_displayed\n",
      "Arabic     0.500000\n",
      "English    0.129167\n",
      "German     0.716216\n",
      "Spanish    0.200000\n",
      "Name: user_id, dtype: float64\n"
     ]
    }
   ],
   "source": [
    "# Group by language_displayed and count unique users\n",
    "total = marketing.groupby(['language_displayed'])\\\n",
    "                                  ['user_id'].nunique()\n",
    "\n",
    "# Group by language_displayed and count unique conversions\n",
    "subscribers = marketing[marketing['converted'] == True]\\\n",
    "                       .groupby(['language_displayed'])\\\n",
    "                       ['user_id'].nunique()\n",
    "\n",
    "# Calculate the conversion rate for all languages\n",
    "language_conversion_rate = subscribers/total\n",
    "print(language_conversion_rate)"
   ]
  },
  {
   "cell_type": "markdown",
   "metadata": {},
   "source": [
    "## Aggregating by date\n",
    "\n",
    "The marketing team wants to know whether there is any difference in the conversion rate based on when in the month, your users saw an ad. In this exercise, you will practice .groupby() again, this time looking at how metrics have evolved."
   ]
  },
  {
   "cell_type": "code",
   "execution_count": 27,
   "metadata": {},
   "outputs": [
    {
     "name": "stdout",
     "output_type": "stream",
     "text": [
      "date_served\n",
      "2018-01-01    0.099448\n",
      "2018-01-02    0.098930\n",
      "2018-01-03    0.103448\n",
      "2018-01-04    0.108359\n",
      "2018-01-05    0.125392\n",
      "2018-01-06    0.113636\n",
      "2018-01-07    0.141818\n",
      "2018-01-08    0.115385\n",
      "2018-01-09    0.125000\n",
      "2018-01-10    0.118694\n",
      "2018-01-11    0.080645\n",
      "2018-01-12    0.076412\n",
      "2018-01-13    0.084967\n",
      "2018-01-14    0.085246\n",
      "2018-01-15    0.113429\n",
      "2018-01-16    0.255155\n",
      "2018-01-17    0.219512\n",
      "2018-01-18    0.091195\n",
      "2018-01-19    0.059016\n",
      "2018-01-20    0.067524\n",
      "2018-01-21    0.087336\n",
      "2018-01-22    0.123596\n",
      "2018-01-23    0.122093\n",
      "2018-01-24    0.115789\n",
      "2018-01-25    0.125000\n",
      "2018-01-26    0.090090\n",
      "2018-01-27    0.065625\n",
      "2018-01-28    0.062500\n",
      "2018-01-29    0.059561\n",
      "2018-01-30    0.066246\n",
      "2018-01-31    0.052941\n",
      "Name: user_id, dtype: float64\n"
     ]
    }
   ],
   "source": [
    "# Group by date_served and count unique users\n",
    "total = marketing.groupby(['date_served'])['user_id']\\\n",
    "                     .nunique()\n",
    "\n",
    "# Group by date_served and count unique converted users\n",
    "subscribers = marketing[marketing['converted'] == True]\\\n",
    "                         .groupby(['date_served'])\\\n",
    "                         ['user_id'].nunique()\n",
    "\n",
    "# Calculate the conversion rate per day\n",
    "daily_conversion_rate = subscribers/total\n",
    "print(daily_conversion_rate)"
   ]
  },
  {
   "cell_type": "code",
   "execution_count": 28,
   "metadata": {},
   "outputs": [
    {
     "data": {
      "image/png": "[encoded data removed]",
      "text/plain": [
       "<Figure size 432x288 with 1 Axes>"
      ]
     },
     "metadata": {
      "needs_background": "light"
     },
     "output_type": "display_data"
    }
   ],
   "source": [
    "# Create a bar chart using language_conversion_rate DataFrame\n",
    "language_conversion_rate.plot(kind='bar')\n",
    "\n",
    "# Add a title and x and y-axis labels\n",
    "plt.title('Conversion rate by language\\n', size = 16)\n",
    "plt.xlabel('Language', size = 14)\n",
    "plt.ylabel('Conversion rate (%)', size = 14)\n",
    "\n",
    "# Display the plot\n",
    "plt.show()"
   ]
  },
  {
   "cell_type": "markdown",
   "metadata": {},
   "source": [
    "### Creating daily conversion rate DataFrame\n",
    "\n",
    "To understand trends over time, you will create a new DataFrame that includes the conversion rate each day. You will follow essentially the same steps as before when you calculated the overall conversion rate, this time also grouping by the date a user subscribed.\n",
    "\n",
    "Looking at the daily conversion rate is crucial to contextualize whether the conversion rate on a particular day was good or bad. Additionally, looking at conversion rate over time can help to surface trends such as a conversion rate that appears to be going down over time. These kinds of trends are crucial to identify for your marketing stakeholders as early as possible."
   ]
  },
  {
   "cell_type": "code",
   "execution_count": 30,
   "metadata": {},
   "outputs": [
    {
     "data": {
      "text/plain": [
       "date_served\n",
       "2018-01-01    0.099448\n",
       "2018-01-02    0.098930\n",
       "2018-01-03    0.103448\n",
       "2018-01-04    0.108359\n",
       "2018-01-05    0.125392\n",
       "2018-01-06    0.113636\n",
       "2018-01-07    0.141818\n",
       "2018-01-08    0.115385\n",
       "2018-01-09    0.125000\n",
       "2018-01-10    0.118694\n",
       "2018-01-11    0.080645\n",
       "2018-01-12    0.076412\n",
       "2018-01-13    0.084967\n",
       "2018-01-14    0.085246\n",
       "2018-01-15    0.113429\n",
       "2018-01-16    0.255155\n",
       "2018-01-17    0.219512\n",
       "2018-01-18    0.091195\n",
       "2018-01-19    0.059016\n",
       "2018-01-20    0.067524\n",
       "2018-01-21    0.087336\n",
       "2018-01-22    0.123596\n",
       "2018-01-23    0.122093\n",
       "2018-01-24    0.115789\n",
       "2018-01-25    0.125000\n",
       "2018-01-26    0.090090\n",
       "2018-01-27    0.065625\n",
       "2018-01-28    0.062500\n",
       "2018-01-29    0.059561\n",
       "2018-01-30    0.066246\n",
       "2018-01-31    0.052941\n",
       "Name: user_id, dtype: float64"
      ]
     },
     "execution_count": 30,
     "metadata": {},
     "output_type": "execute_result"
    }
   ],
   "source": [
    "# Group by date_served and count unique users\n",
    "total = marketing.groupby(['date_served'])['user_id']\\\n",
    "                     .nunique()\n",
    "\n",
    "# Group by date_served and calculate subscribers\n",
    "subscribers = marketing[marketing['converted'] == True]\\\n",
    "                         .groupby(['date_served'])\\\n",
    "                         ['user_id'].nunique()\n",
    "\n",
    "# Calculate the conversion rate for all languages\n",
    "daily_conversion_rates = subscribers/total\n",
    "daily_conversion_rates"
   ]
  },
  {
   "cell_type": "code",
   "execution_count": 31,
   "metadata": {},
   "outputs": [],
   "source": [
    "# Reset index to turn the results into a DataFrame\n",
    "daily_conversion_rate = pd.DataFrame(daily_conversion_rates.reset_index(0))\n",
    "\n",
    "# Rename columns\n",
    "daily_conversion_rate.columns = ['date_served', \n",
    "                                 'conversion_rate']"
   ]
  },
  {
   "cell_type": "code",
   "execution_count": 33,
   "metadata": {},
   "outputs": [
    {
     "data": {
      "image/png": "[encoded data removed]",
      "text/plain": [
       "<Figure size 432x288 with 1 Axes>"
      ]
     },
     "metadata": {
      "needs_background": "light"
     },
     "output_type": "display_data"
    }
   ],
   "source": [
    "# Create a line chart using daily_conversion_rate DataFrame\n",
    "daily_conversion_rate.plot('date_served', \n",
    "                           'conversion_rate')\n",
    "\n",
    "plt.title('Daily conversion rate\\n', size = 16)\n",
    "plt.ylabel('Conversion rate (%)', size = 14)\n",
    "plt.xlabel('Date', size = 14)\n",
    "\n",
    "# Set the y-axis to begin at 0\n",
    "plt.ylim(0)\n",
    "\n",
    "# Display the plot\n",
    "plt.show()"
   ]
  },
  {
   "cell_type": "markdown",
   "metadata": {},
   "source": [
    "## Marketing channels across age groups\n",
    "\n",
    "Some marketing stakeholders want to know if their marketing channels are reaching all users equally or if some marketing channels are serving specific age demographics.\n",
    "\n",
    "Within a marketing team, it is common to get requests that require quick analysis and visualization. The better you are at visualizing the results, the more likely that you will effectively communicate your findings to your stakeholders."
   ]
  },
  {
   "cell_type": "code",
   "execution_count": 34,
   "metadata": {},
   "outputs": [
    {
     "data": {
      "image/png": "[encoded data removed]",
      "text/plain": [
       "<Figure size 432x288 with 1 Axes>"
      ]
     },
     "metadata": {
      "needs_background": "light"
     },
     "output_type": "display_data"
    }
   ],
   "source": [
    "channel_age = marketing.groupby(['marketing_channel', 'age_group'])\\\n",
    "                                ['user_id'].count()\n",
    "\n",
    "# Unstack channel_age and transform it into a DataFrame\n",
    "channel_age_df = pd.DataFrame(channel_age.unstack(level = 1))\n",
    "\n",
    "# Plot the results\n",
    "channel_age_df.plot(kind = 'bar')\n",
    "plt.title('Marketing channels by age group')\n",
    "plt.xlabel('Age Group')\n",
    "plt.ylabel('Users')\n",
    "# Add a legend to the plot\n",
    "plt.legend(loc = 'upper right', \n",
    "           labels = channel_age_df.columns.values)\n",
    "plt.show()"
   ]
  },
  {
   "cell_type": "markdown",
   "metadata": {},
   "source": [
    "## Grouping and counting by multiple columns\n",
    "\n",
    "Stakeholders have begun competing to see whose channel had the best retention rate from the campaign. You must first determine how many subscribers came from the campaign and how many of those subscribers have stayed on the service.\n",
    "\n",
    "It's important to identify how each marketing channel is performing because this will affect company strategy going forward. If one channel is outperforming others, it might signal the channel merits further investment."
   ]
  },
  {
   "cell_type": "code",
   "execution_count": 37,
   "metadata": {},
   "outputs": [
    {
     "name": "stdout",
     "output_type": "stream",
     "text": [
      "date_subscribed  subscribing_channel\n",
      "2018-01-01       Email                   1\n",
      "                 Facebook                7\n",
      "                 House Ads              11\n",
      "                 Instagram               6\n",
      "                 Push                    3\n",
      "Name: user_id, dtype: int64\n"
     ]
    }
   ],
   "source": [
    "# Count the retained subs by subscribing channel and date subscribed\n",
    "retention_subs = marketing[marketing['is_retained'] == True]\\\n",
    "                           .groupby(['date_subscribed',\n",
    "                                     'subscribing_channel'])\\\n",
    "                            ['user_id'].nunique()\n",
    "\n",
    "# Print results\n",
    "print(retention_subs.head())"
   ]
  },
  {
   "cell_type": "code",
   "execution_count": 35,
   "metadata": {},
   "outputs": [
    {
     "name": "stdout",
     "output_type": "stream",
     "text": [
      "date_subscribed  subscribing_channel\n",
      "2018-01-01       Email                   1\n",
      "                 Facebook                8\n",
      "                 House Ads              16\n",
      "                 Instagram               8\n",
      "                 Push                    3\n",
      "Name: user_id, dtype: int64\n"
     ]
    }
   ],
   "source": [
    "# Count the subs by subscribing channel and date subscribed\n",
    "retention_total = marketing.groupby(['date_subscribed',\n",
    "                                     'subscribing_channel'])\\\n",
    "                                       ['user_id'].nunique()\n",
    "\n",
    "# Print results\n",
    "print(retention_total.head())"
   ]
  },
  {
   "cell_type": "markdown",
   "metadata": {},
   "source": [
    "## Analyzing retention rates for the campaign\n",
    "\n",
    "Now that you've calculated the total subscribers and retained subscribers, you can settle the question of which channel had the highest retention rate."
   ]
  },
  {
   "cell_type": "code",
   "execution_count": 38,
   "metadata": {},
   "outputs": [
    {
     "data": {
      "image/png": "[encoded data removed]",
      "text/plain": [
       "<Figure size 432x288 with 1 Axes>"
      ]
     },
     "metadata": {
      "needs_background": "light"
     },
     "output_type": "display_data"
    }
   ],
   "source": [
    "# Divide retained subscribers by total subscribers\n",
    "retention_rate = retention_subs/retention_total\n",
    "retention_rate_df = pd.DataFrame(retention_rate.unstack(level=1))\n",
    "\n",
    "# Plot retention rate\n",
    "retention_rate_df.plot()\n",
    "\n",
    "# Add a title, x-label, y-label, legend and display the plot\n",
    "plt.title('Retention Rate by Subscribing Channel')\n",
    "plt.xlabel('Date Subscribed')\n",
    "plt.ylabel('Retention Rate (%)')\n",
    "plt.legend(loc = 'upper right', \n",
    "           labels = retention_rate_df.columns.values)\n",
    "plt.show()"
   ]
  },
  {
   "cell_type": "markdown",
   "metadata": {},
   "source": [
    "# Conversion Attibution"
   ]
  },
  {
   "cell_type": "code",
   "execution_count": null,
   "metadata": {},
   "outputs": [],
   "source": []
  }
 ],
 "metadata": {
  "kernelspec": {
   "display_name": "Python 3",
   "language": "python",
   "name": "python3"
  },
  "language_info": {
   "codemirror_mode": {
    "name": "ipython",
    "version": 3
   },
   "file_extension": ".py",
   "mimetype": "text/x-python",
   "name": "python",
   "nbconvert_exporter": "python",
   "pygments_lexer": "ipython3",
   "version": "3.8.5"
  }
 },
 "nbformat": 4,
 "nbformat_minor": 4
}
